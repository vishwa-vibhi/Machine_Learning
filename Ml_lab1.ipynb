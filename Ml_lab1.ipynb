{
  "nbformat": 4,
  "nbformat_minor": 0,
  "metadata": {
    "colab": {
      "provenance": []
    },
    "kernelspec": {
      "name": "python3",
      "display_name": "Python 3"
    },
    "language_info": {
      "name": "python"
    }
  },
  "cells": [
    {
      "cell_type": "code",
      "execution_count": null,
      "metadata": {
        "id": "ACcR17OsX-_7"
      },
      "outputs": [],
      "source": []
    },
    {
      "cell_type": "markdown",
      "source": [
        "# LAB 1"
      ],
      "metadata": {
        "id": "srZTnaWkLIhc"
      }
    },
    {
      "cell_type": "markdown",
      "source": [
        "# LAB 1"
      ],
      "metadata": {
        "id": "xkqnHVV8YGpe"
      }
    },
    {
      "cell_type": "markdown",
      "source": [
        "**1** list=[2,7,4,1,3,6], write a program to count pairs of elements with sum equal yo 10\n"
      ],
      "metadata": {
        "id": "t06Xog8uLb4E"
      }
    },
    {
      "cell_type": "code",
      "source": [
        "L=[2,7,4,1,3,6]\n",
        "for i in range(len(L)):\n",
        "  for j in range(i+1,len(L)):\n",
        "    if L[i]+L[j]==10:#checks the condition if l[i]+l[j]=10\n",
        "      print(f\"{L[i]},{L[j]}\")\n"
      ],
      "metadata": {
        "colab": {
          "base_uri": "https://localhost:8080/"
        },
        "id": "ES6-CbnHL2uz",
        "outputId": "6a195da5-acad-4f42-fa5c-faf57c89b6ee"
      },
      "execution_count": null,
      "outputs": [
        {
          "output_type": "stream",
          "name": "stdout",
          "text": [
            "7,3\n",
            "4,6\n"
          ]
        }
      ]
    },
    {
      "cell_type": "markdown",
      "source": [
        "**2)** Write a program that takes a list of real numbers a sinput and returns the range of the list.Check for list being less than 3 elemants in which case return an error message\n"
      ],
      "metadata": {
        "id": "xrM2474bMqND"
      }
    },
    {
      "cell_type": "code",
      "source": [
        "\n",
        "def range(L):\n",
        "  L_sort=sorted(L)\n",
        "  if len(L)==3:\n",
        "    raise ValueError(\"Range determination not possible\")    #Error if length of string is less than 3\n",
        "  Range=L_sort[-1]-L_sort[0]\n",
        "  return Range\n",
        "L=[2,4,5,6]\n",
        "print(\"Range:\",range(L))\n"
      ],
      "metadata": {
        "colab": {
          "base_uri": "https://localhost:8080/"
        },
        "id": "oO1aYCwfNX4M",
        "outputId": "813d44e2-c068-472c-e891-afb89a797e8d"
      },
      "execution_count": null,
      "outputs": [
        {
          "output_type": "stream",
          "name": "stdout",
          "text": [
            "Range: 4\n"
          ]
        }
      ]
    },
    {
      "cell_type": "markdown",
      "source": [
        "**3)** input=Sq matrix A and +ve Z 'm' as arguments\n",
        "o/p=A^m"
      ],
      "metadata": {
        "id": "zGo1fH49Oorb"
      }
    },
    {
      "cell_type": "code",
      "source": [
        "import numpy as np\n",
        "def m_power(A,m):\n",
        "  result=A\n",
        "  for _ in range(1,m):\n",
        "    result=np.dot(result,A)\n",
        "  return result\n",
        "A=np.array([[1,2],[3,4]])\n",
        "m=2\n",
        "r=m_power(A,m)\n",
        "print(r)"
      ],
      "metadata": {
        "colab": {
          "base_uri": "https://localhost:8080/"
        },
        "id": "-WHlwWYmO1-a",
        "outputId": "10453383-6263-4378-f968-dd57c120089e"
      },
      "execution_count": null,
      "outputs": [
        {
          "output_type": "stream",
          "name": "stdout",
          "text": [
            "[[ 7 10]\n",
            " [15 22]]\n"
          ]
        }
      ]
    },
    {
      "cell_type": "markdown",
      "source": [
        "**4)**Count the highest occuring character and its occurence count in an input string.\n"
      ],
      "metadata": {
        "id": "88M6L1nMQNMa"
      }
    },
    {
      "cell_type": "code",
      "source": [
        "s=\"Hiiiieeef\"\n",
        "def char_count(s):\n",
        "  occur={}\n",
        "  c=0\n",
        "  s.upper()\n",
        "  for i in s:\n",
        "    occur[i]=s.count(i)\n",
        "  for i,j in occur.items():\n",
        "    if j>c:\n",
        "      c=j\n",
        "      char=i\n",
        "  return char,c\n",
        "print(char_count(s))"
      ],
      "metadata": {
        "colab": {
          "base_uri": "https://localhost:8080/"
        },
        "id": "QZBdkBelQjU8",
        "outputId": "1169066a-110d-46c3-c7ec-30161808eb39"
      },
      "execution_count": null,
      "outputs": [
        {
          "output_type": "stream",
          "name": "stdout",
          "text": [
            "('i', 4)\n"
          ]
        }
      ]
    }
  ]
}