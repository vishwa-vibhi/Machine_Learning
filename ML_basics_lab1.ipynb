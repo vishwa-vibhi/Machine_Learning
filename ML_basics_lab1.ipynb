{
  "nbformat": 4,
  "nbformat_minor": 0,
  "metadata": {
    "colab": {
      "provenance": []
    },
    "kernelspec": {
      "name": "python3",
      "display_name": "Python 3"
    },
    "language_info": {
      "name": "python"
    }
  },
  "cells": [
    {
      "cell_type": "code",
      "execution_count": null,
      "metadata": {
        "id": "6Hrvpyve3Ojn"
      },
      "outputs": [],
      "source": []
    },
    {
      "cell_type": "markdown",
      "source": [
        "1 Create a vector V1 of random numbers (length = 100) and sort them in increasing order"
      ],
      "metadata": {
        "id": "Gk7pUspv3wwj"
      }
    },
    {
      "cell_type": "code",
      "source": [
        "import numpy as np\n",
        "v1=np.random.rand(100)\n",
        "v1_sort=np.sort(v1)\n",
        "print(v1_sort)\n",
        "\n",
        "#2 Find out what happens when you perform v1*3\n",
        "v1_mul3=V1*3\n",
        "print(v1_mul3)\n",
        "# 3 Find the mean and standard deviation of the vector.\n",
        "print(np.mean(v1))\n",
        "print(np.std(v1))\n",
        "\n"
      ],
      "metadata": {
        "colab": {
          "base_uri": "https://localhost:8080/"
        },
        "id": "QoOyZMvP38YY",
        "outputId": "7332f9a8-1f53-44b3-d752-6ecc2628da02"
      },
      "execution_count": null,
      "outputs": [
        {
          "output_type": "execute_result",
          "data": {
            "text/plain": [
              "array([0.00848863, 0.0158002 , 0.01998857, 0.02151288, 0.02307477,\n",
              "       0.0491942 , 0.07408762, 0.07472687, 0.07777315, 0.08672629,\n",
              "       0.09066011, 0.09125225, 0.10052669, 0.13498913, 0.13764763,\n",
              "       0.13940213, 0.1428033 , 0.16503923, 0.17255669, 0.18201725,\n",
              "       0.1922555 , 0.19834066, 0.21291435, 0.21392624, 0.21954258,\n",
              "       0.22420169, 0.23081574, 0.24516028, 0.24751757, 0.25534382,\n",
              "       0.2656686 , 0.30086345, 0.30779492, 0.30991447, 0.3157561 ,\n",
              "       0.31658859, 0.3308476 , 0.33091978, 0.35355914, 0.3674643 ,\n",
              "       0.38810993, 0.39586585, 0.39881225, 0.40437235, 0.42122102,\n",
              "       0.4420101 , 0.44374574, 0.47795377, 0.49162996, 0.49285186,\n",
              "       0.50380769, 0.5178125 , 0.51788248, 0.53218148, 0.54612996,\n",
              "       0.55244793, 0.55343534, 0.57865741, 0.60305258, 0.62368527,\n",
              "       0.64974048, 0.65626641, 0.66935341, 0.69434924, 0.69559938,\n",
              "       0.69580104, 0.70709552, 0.72627145, 0.72732941, 0.73403649,\n",
              "       0.74783077, 0.75455632, 0.75838373, 0.76482723, 0.80391421,\n",
              "       0.80564861, 0.8072742 , 0.82320093, 0.82917779, 0.83016099,\n",
              "       0.83608277, 0.8474951 , 0.85329611, 0.87416003, 0.91183159,\n",
              "       0.91312036, 0.91899328, 0.92173354, 0.92508894, 0.92551177,\n",
              "       0.93496871, 0.93550437, 0.9382635 , 0.93918933, 0.96682101,\n",
              "       0.96804156, 0.98640137, 0.98642766, 0.99254889, 0.99751721])"
            ]
          },
          "metadata": {},
          "execution_count": 1
        }
      ]
    },
    {
      "cell_type": "markdown",
      "source": [
        "4) Make a 4x3 matrix of zeros, fill it with random numbers, and convert it into a single-dimensional array.\n",
        "\n"
      ],
      "metadata": {
        "id": "uRDZFU-a5wDr"
      }
    },
    {
      "cell_type": "code",
      "source": [
        "mtx=np.zeros((4,3))\n",
        "mtx_random=np.random.rand(4,3)\n",
        "mtx_single=mtx_random.flatten()\n",
        "print(mtx_single)\n"
      ],
      "metadata": {
        "colab": {
          "base_uri": "https://localhost:8080/"
        },
        "id": "SQEmB4Ua57N_",
        "outputId": "3cba74fb-0a7f-4cec-b23d-746f112cc791"
      },
      "execution_count": null,
      "outputs": [
        {
          "output_type": "stream",
          "name": "stdout",
          "text": [
            "[0.24819904 0.07621617 0.47022139 0.95114653 0.36415834 0.77023226\n",
            " 0.93250601 0.07723395 0.22208635 0.42018473 0.01992313 0.6643909 ]\n",
            "None\n"
          ]
        }
      ]
    },
    {
      "cell_type": "markdown",
      "source": [
        "5)  Take a string {S1 = “I am a great learner. I am going to have an awesome life.”}. Search for the\n",
        "substring “Am” and find the occurrence count."
      ],
      "metadata": {
        "id": "N4cu4Lks73-B"
      }
    },
    {
      "cell_type": "code",
      "source": [
        "s1=\"I am a great learner. I am going to have an awesome life.\"\n",
        "s1_count=s1.count(\"am\")\n",
        "print(s1_count)"
      ],
      "metadata": {
        "id": "YbTIxoRk8LqN"
      },
      "execution_count": null,
      "outputs": []
    },
    {
      "cell_type": "code",
      "source": [],
      "metadata": {
        "id": "2EnyrmHd8bVZ"
      },
      "execution_count": null,
      "outputs": []
    },
    {
      "cell_type": "markdown",
      "source": [
        "6) S2 = “I work hard and shall be rewarded well”. Add both the strings to make a single string S3\n",
        "\n",
        "\n",
        "7)  Taking the above string S3, split\n",
        "\n",
        "\n",
        "the string into words by using “white space” and “period(.)” as\n",
        "splitters. Put the words into an array. Find the length of the array.\n",
        "\n",
        "8) Remove words “I”, “Am”, “to” & “and” from the array. Also, remove words containing more than\n",
        "6 characters. Find the length of the array."
      ],
      "metadata": {
        "id": "sq8Ri42P8cvx"
      }
    },
    {
      "cell_type": "code",
      "source": [
        "import re\n",
        "s1=\"I am a great learner. I am going to have an awesome life.\"\n",
        "s2=\"I work hard and shall be rewarded well\"\n",
        "s3=s1+\" \"+s2\n",
        "words=re.split(r\"[.\\s]+\",s3)\n",
        "words=[word for word in words if word]\n",
        "array_length=len(words)\n",
        "print(f\"Words Array:{words}\")\n",
        "print(f\"Length of Array:{array_length}\")\n",
        "#8\n",
        "words_fltr=[word for word in words if word not in [\"I\", \"Am\", \"to\", \"and\"] and len(word)<=6]\n",
        "print(f\"Filtered Words:{words_fltr},Length:{len(words_fltr)}\")"
      ],
      "metadata": {
        "id": "gbt9IpiA8e9Y",
        "colab": {
          "base_uri": "https://localhost:8080/"
        },
        "outputId": "33b1fe5e-2be6-4f8d-d5d2-de5ae6da7f19"
      },
      "execution_count": null,
      "outputs": [
        {
          "output_type": "stream",
          "name": "stdout",
          "text": [
            "Words Array:['I', 'am', 'a', 'great', 'learner', 'I', 'am', 'going', 'to', 'have', 'an', 'awesome', 'life', 'I', 'work', 'hard', 'and', 'shall', 'be', 'rewarded', 'well']\n",
            "Length of Array:21\n",
            "Filtered Words:['am', 'a', 'great', 'am', 'going', 'have', 'an', 'life', 'work', 'hard', 'shall', 'be', 'well'],Length:13\n"
          ]
        }
      ]
    },
    {
      "cell_type": "code",
      "source": [],
      "metadata": {
        "id": "Upm7MrskCHP7"
      },
      "execution_count": null,
      "outputs": []
    },
    {
      "cell_type": "markdown",
      "source": [
        "9)  Consider the date “01-JUN-2021”. Split the date and find the values for date, month and year\n",
        "separately. Find the numerical value for the month using calendar sequence (Jan = 1, Dec = 12)."
      ],
      "metadata": {
        "id": "aMwykG1U_Ey6"
      }
    },
    {
      "cell_type": "code",
      "source": [
        "date=\"01-JUN-2021\"\n",
        "day,month,year=date.split(\"-\")\n",
        "month_map={\"JAN\":1,\"FEB\":2,\"MAR\":3,\"APR\":4,\"MAY\":5,\"JUN\":6,\"JUL\":7,\"AUG\":8,\"SEP\":9,\"OCT\":10,\"NOV\":11,\"DEC\":12}\n",
        "month_num=month_map[month]\n",
        "print(f\"Day:{day},Month:{month_num},Year:{year}\")\n"
      ],
      "metadata": {
        "id": "q18PvpLG_KTW",
        "colab": {
          "base_uri": "https://localhost:8080/"
        },
        "outputId": "6b009ec4-90f8-4cbc-bb02-f5a7879a9af4"
      },
      "execution_count": null,
      "outputs": [
        {
          "output_type": "stream",
          "name": "stdout",
          "text": [
            "Day:01,Month:6,Year:2021\n"
          ]
        }
      ]
    },
    {
      "cell_type": "markdown",
      "source": [
        "10). Create an excel file with 3 columns. The 3 columns contain the names of city, state and PIN code.\n",
        "Make 10 row entries for 10 cities. (Refer table below.) Load this excel file into a data table. Make a\n",
        "fourth column that contains a string with the city & state joined with a comma separation. Write the\n",
        "table back into an excel file."
      ],
      "metadata": {
        "id": "4nxMNDW8ALo5"
      }
    },
    {
      "cell_type": "code",
      "source": [
        "import pandas as pd\n",
        "data = {\"City\": [\"BENGALURU\", \"CHENNAI\", \"MUMBAI\", \"MYSURU\", \"PATNA\",\n",
        "             \"JAMMU\", \"GANDHI NAGAR\", \"HYDERABAD\", \"ERNAKULAM\", \"AMARAVATI\"],\n",
        "    \"State\": [\"KA\", \"TN\", \"MH\", \"KA\", \"BH\", \"JK\", \"GJ\", \"TS\", \"KL\", \"AP\"],\n",
        "    \"PIN Code\": [560001, 600001, 400001, 570001, 800001,\n",
        "                 180001, 382001, 500001, 682001, 522001]\n",
        "}\n",
        "df=pd.DataFrame(data)\n",
        "df[\"City_State\"]=df[\"City\"]+\",\"+df[\"State\"]\n",
        "op_file=\"city_data.xlsx\"\n",
        "df.to_excel(op_file,index=False)\n",
        "print(f\"Data saved to {op_file}\")\n",
        "from google.colab import files\n",
        "# Download the Excel file in colab itself\n",
        "files.download(\"city_data.xlsx\")"
      ],
      "metadata": {
        "colab": {
          "base_uri": "https://localhost:8080/",
          "height": 34
        },
        "id": "DzJKbkEMAdFJ",
        "outputId": "af27e6bf-576c-4f57-f74e-d5769b3abae4"
      },
      "execution_count": null,
      "outputs": [
        {
          "output_type": "stream",
          "name": "stdout",
          "text": [
            "Data saved to city_data.xlsx\n"
          ]
        },
        {
          "output_type": "display_data",
          "data": {
            "text/plain": [
              "<IPython.core.display.Javascript object>"
            ],
            "application/javascript": [
              "\n",
              "    async function download(id, filename, size) {\n",
              "      if (!google.colab.kernel.accessAllowed) {\n",
              "        return;\n",
              "      }\n",
              "      const div = document.createElement('div');\n",
              "      const label = document.createElement('label');\n",
              "      label.textContent = `Downloading \"${filename}\": `;\n",
              "      div.appendChild(label);\n",
              "      const progress = document.createElement('progress');\n",
              "      progress.max = size;\n",
              "      div.appendChild(progress);\n",
              "      document.body.appendChild(div);\n",
              "\n",
              "      const buffers = [];\n",
              "      let downloaded = 0;\n",
              "\n",
              "      const channel = await google.colab.kernel.comms.open(id);\n",
              "      // Send a message to notify the kernel that we're ready.\n",
              "      channel.send({})\n",
              "\n",
              "      for await (const message of channel.messages) {\n",
              "        // Send a message to notify the kernel that we're ready.\n",
              "        channel.send({})\n",
              "        if (message.buffers) {\n",
              "          for (const buffer of message.buffers) {\n",
              "            buffers.push(buffer);\n",
              "            downloaded += buffer.byteLength;\n",
              "            progress.value = downloaded;\n",
              "          }\n",
              "        }\n",
              "      }\n",
              "      const blob = new Blob(buffers, {type: 'application/binary'});\n",
              "      const a = document.createElement('a');\n",
              "      a.href = window.URL.createObjectURL(blob);\n",
              "      a.download = filename;\n",
              "      div.appendChild(a);\n",
              "      a.click();\n",
              "      div.remove();\n",
              "    }\n",
              "  "
            ]
          },
          "metadata": {}
        },
        {
          "output_type": "display_data",
          "data": {
            "text/plain": [
              "<IPython.core.display.Javascript object>"
            ],
            "application/javascript": [
              "download(\"download_3844afcc-cc5d-4a61-bbb8-60481eb56c99\", \"city_data.xlsx\", 5289)"
            ]
          },
          "metadata": {}
        }
      ]
    },
    {
      "cell_type": "code",
      "source": [],
      "metadata": {
        "id": "S0RKRC5DA6qk"
      },
      "execution_count": null,
      "outputs": []
    }
  ]
}